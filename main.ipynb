{
 "cells": [
  {
   "cell_type": "markdown",
   "id": "3d03cc82-934d-4e75-b804-4077f1ececbe",
   "metadata": {},
   "source": [
    "## Natural Language Processing with Deep Learning\n",
    "\n",
    "We all lives in a world where we want to share our opinions for some things. When it comes to cars, men have lots of things to say. Hence we are going to have pre-processed data from an actual online space. \n",
    "\n",
    "The success of the NLP project is to train a model to complete two tasks: the model can classify given the dataset\n",
    "- 10 themes such as 动力、价格、内饰、配追、安全性、外观、操控、油耗、空间、舒适性.\n",
    "- 3 different numerical values such as 0、1、-1 representing 中立、正向、负向 respectively.\n",
    "\n",
    "Since a sentence can have multiple themes, the model needs to be able to classify multiple themes. So it is a task of multiple classifications.\n",
    "\n",
    "The dataset is relatively simple and only contains text data (8,000 rows x 1 column)"
   ]
  },
  {
   "cell_type": "code",
   "execution_count": 1,
   "id": "98d6abb1-4682-4c1a-a62c-27d5f838f3b6",
   "metadata": {},
   "outputs": [],
   "source": [
    "import pandas as pd\n",
    "import os"
   ]
  },
  {
   "cell_type": "code",
   "execution_count": 2,
   "id": "4f3c04ec-75b2-4ff4-9c03-50146e969bf7",
   "metadata": {},
   "outputs": [],
   "source": [
    "raw_df = pd.read_csv(\n",
    "    \"./automative-industry-opinions-data/train.txt\",\n",
    "    header=None,\n",
    "    names=['data']\n",
    "    \n",
    ")"
   ]
  },
  {
   "cell_type": "code",
   "execution_count": 3,
   "id": "ee34e9f1-c9cd-42fa-a805-b31fb7a54bcb",
   "metadata": {},
   "outputs": [
    {
     "data": {
      "text/plain": [
       "(8000, 1)"
      ]
     },
     "execution_count": 3,
     "metadata": {},
     "output_type": "execute_result"
    }
   ],
   "source": [
    "raw_df.shape"
   ]
  },
  {
   "cell_type": "code",
   "execution_count": 4,
   "id": "abc9b409-1a2a-4e16-9264-50f570229d59",
   "metadata": {},
   "outputs": [
    {
     "data": {
      "text/html": [
       "<div>\n",
       "<style scoped>\n",
       "    .dataframe tbody tr th:only-of-type {\n",
       "        vertical-align: middle;\n",
       "    }\n",
       "\n",
       "    .dataframe tbody tr th {\n",
       "        vertical-align: top;\n",
       "    }\n",
       "\n",
       "    .dataframe thead th {\n",
       "        text-align: right;\n",
       "    }\n",
       "</style>\n",
       "<table border=\"1\" class=\"dataframe\">\n",
       "  <thead>\n",
       "    <tr style=\"text-align: right;\">\n",
       "      <th></th>\n",
       "      <th>data</th>\n",
       "    </tr>\n",
       "  </thead>\n",
       "  <tbody>\n",
       "    <tr>\n",
       "      <th>0</th>\n",
       "      <td>因为 森林 人 即将 换代 ， 这套 系统 没 必要 装 在 一 款 即将 换代 的 车型 ...</td>\n",
       "    </tr>\n",
       "    <tr>\n",
       "      <th>1</th>\n",
       "      <td>四驱 价格 貌似 挺 高 的 ， 高 的 可以 看齐 XC 60 了 ， 看 实 车前 脸 ...</td>\n",
       "    </tr>\n",
       "    <tr>\n",
       "      <th>2</th>\n",
       "      <td>斯柯达 要说 质量 ， 似乎 比 大众 要 好 一点 ， 价格 也 低 一些 ， 用料 完全...</td>\n",
       "    </tr>\n",
       "    <tr>\n",
       "      <th>3</th>\n",
       "      <td>这 玩意 都 是 给 有钱 任性 又 不 懂 车 的 土豪 用 的 ， 这 价格 换 一 次...</td>\n",
       "    </tr>\n",
       "    <tr>\n",
       "      <th>4</th>\n",
       "      <td>17 价格 忒 高 ， 估计 也 就是 14 - 15 左右 。\\t价格#-1</td>\n",
       "    </tr>\n",
       "  </tbody>\n",
       "</table>\n",
       "</div>"
      ],
      "text/plain": [
       "                                                data\n",
       "0  因为 森林 人 即将 换代 ， 这套 系统 没 必要 装 在 一 款 即将 换代 的 车型 ...\n",
       "1  四驱 价格 貌似 挺 高 的 ， 高 的 可以 看齐 XC 60 了 ， 看 实 车前 脸 ...\n",
       "2  斯柯达 要说 质量 ， 似乎 比 大众 要 好 一点 ， 价格 也 低 一些 ， 用料 完全...\n",
       "3  这 玩意 都 是 给 有钱 任性 又 不 懂 车 的 土豪 用 的 ， 这 价格 换 一 次...\n",
       "4            17 价格 忒 高 ， 估计 也 就是 14 - 15 左右 。\\t价格#-1"
      ]
     },
     "execution_count": 4,
     "metadata": {},
     "output_type": "execute_result"
    }
   ],
   "source": [
    "raw_df.head()"
   ]
  },
  {
   "cell_type": "code",
   "execution_count": 5,
   "id": "07adae6f-c39f-4b07-adad-b2550885a4e0",
   "metadata": {},
   "outputs": [
    {
     "data": {
      "text/html": [
       "<div>\n",
       "<style scoped>\n",
       "    .dataframe tbody tr th:only-of-type {\n",
       "        vertical-align: middle;\n",
       "    }\n",
       "\n",
       "    .dataframe tbody tr th {\n",
       "        vertical-align: top;\n",
       "    }\n",
       "\n",
       "    .dataframe thead th {\n",
       "        text-align: right;\n",
       "    }\n",
       "</style>\n",
       "<table border=\"1\" class=\"dataframe\">\n",
       "  <thead>\n",
       "    <tr style=\"text-align: right;\">\n",
       "      <th></th>\n",
       "      <th>data</th>\n",
       "    </tr>\n",
       "  </thead>\n",
       "  <tbody>\n",
       "    <tr>\n",
       "      <th>7995</th>\n",
       "      <td>预算 足够 的 话 ， 同 款 车 买 动力 最好 的 绝不 后悔\\t动力#1</td>\n",
       "    </tr>\n",
       "    <tr>\n",
       "      <th>7996</th>\n",
       "      <td>2.0 的 ， 提 车 起 一直 在 用 95 ， 用 了 快 一 年 ， 不 抖 声音 小...</td>\n",
       "    </tr>\n",
       "    <tr>\n",
       "      <th>7997</th>\n",
       "      <td>这 也 是 FB 发动机 通病 ， 要是 不 严重 ， 就 不 需要 管 它 。\\t动力#-1</td>\n",
       "    </tr>\n",
       "    <tr>\n",
       "      <th>7998</th>\n",
       "      <td>海拔 之 于 油耗 的 差别 在 空气 的 含氧量 、 湿度 的 区别 即 空气 密度 不同...</td>\n",
       "    </tr>\n",
       "    <tr>\n",
       "      <th>7999</th>\n",
       "      <td>普利 斯通 也 是 一线 品牌 的 轮胎 ， 质量 方面 还是 可以 的 ， 轮胎 价格 可...</td>\n",
       "    </tr>\n",
       "  </tbody>\n",
       "</table>\n",
       "</div>"
      ],
      "text/plain": [
       "                                                   data\n",
       "7995            预算 足够 的 话 ， 同 款 车 买 动力 最好 的 绝不 后悔\\t动力#1\n",
       "7996  2.0 的 ， 提 车 起 一直 在 用 95 ， 用 了 快 一 年 ， 不 抖 声音 小...\n",
       "7997    这 也 是 FB 发动机 通病 ， 要是 不 严重 ， 就 不 需要 管 它 。\\t动力#-1\n",
       "7998  海拔 之 于 油耗 的 差别 在 空气 的 含氧量 、 湿度 的 区别 即 空气 密度 不同...\n",
       "7999  普利 斯通 也 是 一线 品牌 的 轮胎 ， 质量 方面 还是 可以 的 ， 轮胎 价格 可..."
      ]
     },
     "execution_count": 5,
     "metadata": {},
     "output_type": "execute_result"
    }
   ],
   "source": [
    "raw_df.tail()"
   ]
  },
  {
   "cell_type": "code",
   "execution_count": 6,
   "id": "e1468eef-d6a8-4aa6-adb6-39113f427c87",
   "metadata": {},
   "outputs": [],
   "source": [
    "df = raw_df['data'].str.split('\\t', n=1, expand=True);\n",
    "df.columns = ['text', 'label']"
   ]
  },
  {
   "cell_type": "code",
   "execution_count": 7,
   "id": "553c0126-4c49-499f-9821-953678ac83ff",
   "metadata": {},
   "outputs": [
    {
     "name": "stdout",
     "output_type": "stream",
     "text": [
      "<class 'pandas.core.frame.DataFrame'>\n",
      "RangeIndex: 8000 entries, 0 to 7999\n",
      "Data columns (total 2 columns):\n",
      " #   Column  Non-Null Count  Dtype \n",
      "---  ------  --------------  ----- \n",
      " 0   text    8000 non-null   object\n",
      " 1   label   8000 non-null   object\n",
      "dtypes: object(2)\n",
      "memory usage: 125.1+ KB\n"
     ]
    }
   ],
   "source": [
    "df.info()"
   ]
  },
  {
   "cell_type": "code",
   "execution_count": 8,
   "id": "2267037b-1c64-4606-b199-f2ddc18512c5",
   "metadata": {},
   "outputs": [
    {
     "data": {
      "text/html": [
       "<div>\n",
       "<style scoped>\n",
       "    .dataframe tbody tr th:only-of-type {\n",
       "        vertical-align: middle;\n",
       "    }\n",
       "\n",
       "    .dataframe tbody tr th {\n",
       "        vertical-align: top;\n",
       "    }\n",
       "\n",
       "    .dataframe thead th {\n",
       "        text-align: right;\n",
       "    }\n",
       "</style>\n",
       "<table border=\"1\" class=\"dataframe\">\n",
       "  <thead>\n",
       "    <tr style=\"text-align: right;\">\n",
       "      <th></th>\n",
       "      <th>text</th>\n",
       "      <th>label</th>\n",
       "    </tr>\n",
       "  </thead>\n",
       "  <tbody>\n",
       "  </tbody>\n",
       "</table>\n",
       "</div>"
      ],
      "text/plain": [
       "Empty DataFrame\n",
       "Columns: [text, label]\n",
       "Index: []"
      ]
     },
     "execution_count": 8,
     "metadata": {},
     "output_type": "execute_result"
    }
   ],
   "source": [
    "df[df['label'].isna()]"
   ]
  },
  {
   "cell_type": "markdown",
   "id": "c01eb4fd-4b8b-48bd-8c58-83c67be7a9c5",
   "metadata": {},
   "source": [
    "Okay it doesn't have na values"
   ]
  },
  {
   "cell_type": "markdown",
   "id": "acfc2a7d-c0a5-45aa-973b-af91118cff6f",
   "metadata": {},
   "source": [
    "### Main\n",
    "\n",
    "\n",
    "In the world of NLP, we know the initial solution would be Bags of words. In other words, it is acutally one-hot method. Each word has its values if they appears in a text. However, it could cause over engineering features. It has two major drawbacks such as high dimensions and loss of information. So we won't take this approach. \n",
    "\n",
    "We need to split a whole sentence into a different meaningful words. Usually jieba is the package to deal with the Chinese words.\n",
    "\n",
    "WordVec is the medicine to the poision of bags of words. "
   ]
  },
  {
   "cell_type": "markdown",
   "id": "de151e3f-151f-4058-ae2d-fc08435d7107",
   "metadata": {},
   "source": [
    "#### Step 1 - We need to construct a Word Vector Table\n",
    "\n",
    "\n",
    "![](https://i.imgur.com/jzvWTJt.png)\n",
    "\n",
    "\n",
    "#### Step 2 -  We need a model to deal with it"
   ]
  },
  {
   "cell_type": "code",
   "execution_count": 11,
   "id": "2fb1ae52-19aa-4569-8beb-479b1e5e6205",
   "metadata": {},
   "outputs": [],
   "source": [
    "!pip install transformers --quiet"
   ]
  },
  {
   "cell_type": "code",
   "execution_count": 10,
   "id": "82c3f677-d197-496e-bd37-25c0abc54e25",
   "metadata": {},
   "outputs": [],
   "source": [
    "#!pip install torch"
   ]
  },
  {
   "cell_type": "code",
   "execution_count": null,
   "id": "8badbd49-f988-4a1a-924e-6265a4d0a1f0",
   "metadata": {},
   "outputs": [],
   "source": [
    "import torch\n",
    "from torch import nn"
   ]
  },
  {
   "cell_type": "code",
   "execution_count": null,
   "id": "0bd42b28-b30d-41d8-9ccc-3d5a3839797a",
   "metadata": {},
   "outputs": [],
   "source": []
  }
 ],
 "metadata": {
  "kernelspec": {
   "display_name": "Python 3 (ipykernel)",
   "language": "python",
   "name": "python3"
  },
  "language_info": {
   "codemirror_mode": {
    "name": "ipython",
    "version": 3
   },
   "file_extension": ".py",
   "mimetype": "text/x-python",
   "name": "python",
   "nbconvert_exporter": "python",
   "pygments_lexer": "ipython3",
   "version": "3.8.20"
  }
 },
 "nbformat": 4,
 "nbformat_minor": 5
}
